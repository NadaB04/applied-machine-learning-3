{
 "cells": [
  {
   "cell_type": "markdown",
   "id": "dcc817e4",
   "metadata": {},
   "source": [
    "# Noa Tobias: 326335064 \n",
    "# Nadav Banay:326277910"
   ]
  },
  {
   "cell_type": "markdown",
   "id": "1c68cf48",
   "metadata": {},
   "source": [
    "## Importing libraries, stopwords, and setting constants:"
   ]
  },
  {
   "cell_type": "code",
   "execution_count": 59,
   "id": "62b927f7",
   "metadata": {},
   "outputs": [],
   "source": [
    "import numpy as np\n",
    "import re\n",
    "import string\n",
    "import tqdm\n",
    "import matplotlib.pyplot as plt\n",
    "import nltk\n",
    "import io\n",
    "from nltk.corpus import stopwords\n",
    "\n",
    "import tensorflow as tf\n",
    "from tensorflow.keras import layers\n",
    "\n",
    "from sklearn.decomposition import PCA\n",
    "from sklearn.cluster import KMeans\n",
    "from sklearn.metrics.pairwise import cosine_similarity\n",
    "from sklearn.model_selection import train_test_split"
   ]
  },
  {
   "cell_type": "code",
   "execution_count": 2,
   "id": "511aea66",
   "metadata": {},
   "outputs": [
    {
     "name": "stderr",
     "output_type": "stream",
     "text": [
      "[nltk_data] Downloading package stopwords to\n",
      "[nltk_data]     C:\\Users\\nadav\\AppData\\Roaming\\nltk_data...\n",
      "[nltk_data]   Package stopwords is already up-to-date!\n"
     ]
    },
    {
     "data": {
      "text/plain": [
       "True"
      ]
     },
     "execution_count": 2,
     "metadata": {},
     "output_type": "execute_result"
    }
   ],
   "source": [
    "SEED = 6\n",
    "AUTOTUNE = tf.data.AUTOTUNE\n",
    "BATCH_SIZE = 1024\n",
    "BUFFER_SIZE = 10000\n",
    "EPOCH=8\n",
    "nltk.download('stopwords')"
   ]
  },
  {
   "cell_type": "markdown",
   "id": "62194071",
   "metadata": {},
   "source": [
    "# Preprocessing  the Data:"
   ]
  },
  {
   "cell_type": "code",
   "execution_count": 39,
   "id": "1c5f203d",
   "metadata": {},
   "outputs": [],
   "source": [
    "path_to_file = 'contents/reviews_data.txt'"
   ]
  },
  {
   "cell_type": "code",
   "execution_count": 40,
   "id": "b3c526f6",
   "metadata": {},
   "outputs": [],
   "source": [
    "#filtering empty lines\n",
    "text_ds = tf.data.TextLineDataset(path_to_file).filter(lambda x: tf.cast(tf.strings.length(x), bool))\n",
    "#lowercasing and removes punctation:\n",
    "text_ds = text_ds.map(lambda x: tf.strings.regex_replace(tf.strings.lower(x), '[%s]' % re.escape(string.punctuation), ''))"
   ]
  },
  {
   "cell_type": "markdown",
   "id": "a5fd82ed",
   "metadata": {},
   "source": [
    "### Creating vocab and replcaing context/rare words:"
   ]
  },
  {
   "cell_type": "code",
   "execution_count": 41,
   "id": "2bcb71a4",
   "metadata": {},
   "outputs": [],
   "source": [
    "def create_vocab(text_ds):\n",
    "    vocab = {}\n",
    "    for line in text_ds:\n",
    "        for word in line.numpy().decode().split():\n",
    "            if word in vocab:\n",
    "                vocab[word] += 1\n",
    "            else:\n",
    "                vocab[word] = 1\n",
    "    return vocab"
   ]
  },
  {
   "cell_type": "code",
   "execution_count": 67,
   "id": "9e48fa46",
   "metadata": {},
   "outputs": [],
   "source": [
    "def filtering(minimal_frq, text_ds):\n",
    "    v = create_vocab(text_ds)\n",
    "    #replacing rare words:\n",
    "    infrequent_words = set(k for k, v in v.items() if v < minimal_frq)\n",
    "    stop_words = set(stopwords.words('english'))\n",
    "\n",
    "    \n",
    "    # Split the patterns into batches\n",
    "    infrequent_batches = [list(infrequent_words)[i:i+BATCH_SIZE] for i in range(0, len(infrequent_words), BATCH_SIZE)]\n",
    "    stopword_batches = [list(stop_words)[i:i+BATCH_SIZE] for i in range(0, len(stop_words), BATCH_SIZE)]\n",
    "    # Apply the replacing the unwanted words\n",
    "    for infrequent_words_batch in infrequent_batches:\n",
    "        pattern_infq = r'\\b(' + '|'.join(map(re.escape, infrequent_words_batch)) + r')\\b'\n",
    "        text_ds = text_ds.map(lambda x: tf.strings.regex_replace(x, pattern_infq, 'rareword'))\n",
    "    for stop_words_batch in stopword_batches:\n",
    "        pattern_stop = r'\\b(' + '|'.join(map(re.escape, stop_words_batch)) + r')\\b'\n",
    "        text_ds = text_ds.map(lambda x: tf.strings.regex_replace(x, pattern_stop, 'stopword'))\n",
    "\n",
    "        \n",
    "    #updating my vocab:\n",
    "    v = create_vocab(text_ds)\n",
    "    v_size = len(v)\n",
    "    return text_ds, v_size"
   ]
  },
  {
   "cell_type": "markdown",
   "id": "71994c57",
   "metadata": {},
   "source": [
    " "
   ]
  },
  {
   "cell_type": "markdown",
   "id": "30365d37",
   "metadata": {},
   "source": [
    " "
   ]
  },
  {
   "cell_type": "markdown",
   "id": "00d96ed3",
   "metadata": {},
   "source": [
    " "
   ]
  },
  {
   "cell_type": "markdown",
   "id": "12c8b841",
   "metadata": {},
   "source": [
    "### Skipgramming:"
   ]
  },
  {
   "cell_type": "markdown",
   "id": "8e7a4c1b",
   "metadata": {},
   "source": [
    "Generates skip-gram pairs with negative sampling for a list of sequences\n",
    "(int-encoded sentences) based on window size, number of negative samples\n",
    "and vocabulary size."
   ]
  },
  {
   "cell_type": "code",
   "execution_count": 68,
   "id": "8ce3a0b7",
   "metadata": {},
   "outputs": [],
   "source": [
    "def generate_training_data(sequences, window_size, num_ns, vocab_size, seed):\n",
    "    targets, contexts, labels = [], [], []\n",
    "    sampling_table = tf.keras.preprocessing.sequence.make_sampling_table(vocab_size)\n",
    "\n",
    "    # Iterate over all sequences (sentences) in the dataset.\n",
    "    for sequence in tqdm.tqdm(sequences):\n",
    "        # Generate positive skip-gram pairs for a sequence (sentence).\n",
    "        positive_skip_grams, _ = tf.keras.preprocessing.sequence.skipgrams(sequence,vocabulary_size=vocab_size,sampling_table=sampling_table,window_size=window_size,negative_samples=0)\n",
    "   \n",
    "        # creating training examples with a positive context word and negative samples, out of the positive skipgrams.\n",
    "        for target_word, context_word in positive_skip_grams:\n",
    "            context_class = tf.expand_dims(tf.constant([context_word], dtype=\"int64\"), 1)\n",
    "            negative_sampling_candidates, _, _ = tf.random.log_uniform_candidate_sampler(true_classes=context_class,num_true=1,num_sampled=num_ns,unique=True,range_max=vocab_size,seed=seed,name=\"negative_sampling\")\n",
    "\n",
    "            #append context and label vectors (for one target word)\n",
    "            targets.append(target_word)\n",
    "            contexts.append(tf.concat([tf.squeeze(context_class,1), negative_sampling_candidates], 0)) #context_words\n",
    "            labels.append(tf.constant([1] + [0]*num_ns, dtype=\"int64\"))\n",
    "\n",
    "    return targets, contexts, labels"
   ]
  },
  {
   "cell_type": "markdown",
   "id": "3de4e0f4",
   "metadata": {},
   "source": [
    "##### vectorizing:"
   ]
  },
  {
   "cell_type": "code",
   "execution_count": 69,
   "id": "68687ae1",
   "metadata": {},
   "outputs": [],
   "source": [
    "def create_txt_vec_ds(sequence_length, ds, vocab_size):\n",
    "    vectorize_layer = layers.TextVectorization(max_tokens=vocab_size,output_mode='int',output_sequence_length=sequence_length)\n",
    "    vectorize_layer.adapt(ds.batch(BATCH_SIZE))\n",
    "    inverse_vocab = vectorize_layer.get_vocabulary()\n",
    "    return text_ds.batch(BATCH_SIZE).prefetch(AUTOTUNE).map(vectorize_layer).unbatch(), vectorize_layer, inverse_vocab"
   ]
  },
  {
   "cell_type": "markdown",
   "id": "8e662ada",
   "metadata": {},
   "source": [
    "##### creating targets, contexts, labels(+ or - skipgrams):"
   ]
  },
  {
   "cell_type": "code",
   "execution_count": 70,
   "id": "2e760789",
   "metadata": {},
   "outputs": [],
   "source": [
    "def create_tar_cont_lab(text_vector_ds, window_size, num_ns, vocab_size):\n",
    "    sequences = list(text_vector_ds.as_numpy_iterator())\n",
    "    targets, contexts, labels = generate_training_data(sequences=sequences,window_size=window_size,num_ns=num_ns,vocab_size=vocab_size,seed=SEED)\n",
    "    return np.array(targets), np.array(contexts), np.array(labels)"
   ]
  },
  {
   "cell_type": "markdown",
   "id": "eefd72ac",
   "metadata": {},
   "source": [
    "#### creates a TF.Dataset of (targests, contexts, words):"
   ]
  },
  {
   "cell_type": "markdown",
   "id": "3a1d7b41",
   "metadata": {},
   "source": [
    "It shuffles the dataset, groups it into batches, and caches and prefetches it for efficient training. The resulting dataset can be used to train a machine learning model for predicting the context of a target word based on labeled data."
   ]
  },
  {
   "cell_type": "code",
   "execution_count": 71,
   "id": "4999876f",
   "metadata": {},
   "outputs": [],
   "source": [
    "def create_dataset(targets, contexts, labels):\n",
    "    dataset = tf.data.Dataset.from_tensor_slices(((targets, contexts), labels))\n",
    "    dataset = dataset.shuffle(BUFFER_SIZE).batch(BATCH_SIZE, drop_remainder=True)\n",
    "    return dataset.cache().prefetch(buffer_size=AUTOTUNE)"
   ]
  },
  {
   "cell_type": "markdown",
   "id": "56c91d37",
   "metadata": {},
   "source": [
    " "
   ]
  },
  {
   "cell_type": "markdown",
   "id": "8eb1a49f",
   "metadata": {},
   "source": [
    " "
   ]
  },
  {
   "cell_type": "markdown",
   "id": "35296808",
   "metadata": {},
   "source": [
    " "
   ]
  },
  {
   "cell_type": "markdown",
   "id": "d35e1ab4",
   "metadata": {},
   "source": [
    "# Building the model:"
   ]
  },
  {
   "cell_type": "code",
   "execution_count": 72,
   "id": "b5337e2b",
   "metadata": {},
   "outputs": [],
   "source": [
    "class Word2Vec(tf.keras.Model):\n",
    "    def __init__(self, vocab_size, embedding_dim):\n",
    "        super(Word2Vec, self).__init__()\n",
    "        self.target_embedding = layers.Embedding(vocab_size,embedding_dim,input_length=1,name=\"w2v_embedding\")\n",
    "        self.context_embedding = layers.Embedding(vocab_size,embedding_dim,input_length=num_ns+1)\n",
    "\n",
    "    def call(self, pair):\n",
    "        target, context = pair\n",
    "        if len(target.shape) == 2:\n",
    "            target = tf.squeeze(target, axis=1)\n",
    "        word_emb = self.target_embedding(target)\n",
    "        context_emb = self.context_embedding(context)\n",
    "        dots = tf.einsum('be,bce->bc', word_emb, context_emb)\n",
    "        # dots: (batch, context)\n",
    "        return dots"
   ]
  },
  {
   "cell_type": "code",
   "execution_count": 73,
   "id": "0c15c4c3",
   "metadata": {},
   "outputs": [],
   "source": [
    "def custom_loss(x_logit, y_true):\n",
    "      return tf.nn.sigmoid_cross_entropy_with_logits(logits=x_logit, labels=y_true)"
   ]
  },
  {
   "cell_type": "code",
   "execution_count": 74,
   "id": "0229726e",
   "metadata": {},
   "outputs": [],
   "source": [
    "def build_model(vocab_size, embedding_dim):\n",
    "    #building the model:\n",
    "    word2vec = Word2Vec(vocab_size, embedding_dim)\n",
    "    word2vec.compile(optimizer='adam', loss=tf.keras.losses.CategoricalCrossentropy(from_logits=True),metrics=['accuracy'])\n",
    "    return word2vec"
   ]
  },
  {
   "cell_type": "markdown",
   "id": "0ee5d7a0",
   "metadata": {},
   "source": [
    "  "
   ]
  },
  {
   "cell_type": "markdown",
   "id": "c6967620",
   "metadata": {},
   "source": [
    " "
   ]
  },
  {
   "cell_type": "markdown",
   "id": "d833b73a",
   "metadata": {},
   "source": [
    "### searching for the best hyperparameters:"
   ]
  },
  {
   "cell_type": "code",
   "execution_count": 78,
   "id": "728cf5c1",
   "metadata": {},
   "outputs": [],
   "source": [
    "#The hyperparameters that needed to be chosen\n",
    "#left side are the parameters i wrote after the search\n",
    "#right side are the possible values to search over\n",
    "minimal_frq, minimal_frqs = 30, [10, 20, 30]\n",
    "sequence_length, sequence_lengths = 15, [10, 15]\n",
    "window_size, window_sizes = 5, [5, 10]\n",
    "num_ns, num_nss = 4, [4, 8]\n",
    "\n",
    "embedding_dim, embedding_dims = 64, [64, 128, 256]"
   ]
  },
  {
   "cell_type": "markdown",
   "id": "12fef0c2",
   "metadata": {},
   "source": [
    "##### params running:"
   ]
  },
  {
   "cell_type": "code",
   "execution_count": 79,
   "id": "939095c4",
   "metadata": {},
   "outputs": [],
   "source": [
    "combinations = [(a,b,c) for a in sequence_lengths for b in window_sizes for c in num_nss]"
   ]
  },
  {
   "cell_type": "code",
   "execution_count": 80,
   "id": "2df92b21",
   "metadata": {},
   "outputs": [
    {
     "name": "stderr",
     "output_type": "stream",
     "text": [
      "100%|█████████████████████████████████████████████████████████████████████████| 255363/255363 [11:50<00:00, 359.63it/s]\n"
     ]
    },
    {
     "name": "stdout",
     "output_type": "stream",
     "text": [
      "     finished editing data\n",
      "     splitted the data\n",
      "528/528 [==============================] - 3s 6ms/step - loss: 0.7659 - accuracy: 0.7396\n",
      "     model is done and evaluated\n",
      "!!!!!!!best score updated, now its 0.7396110892295837!!!!!!!!\n",
      "!!!!!!!!of the params:minimal_frq:30, sequence_length:15, window_size:5, num_n:4, embedding_dim:64!!!!!!!!\n"
     ]
    }
   ],
   "source": [
    "best_model, best_vectorize_layer, best_inverse_vocab, best_score = None, None, None, 0\n",
    "for minimal_frq in minimal_frqs:\n",
    "    ds, vocab_size = filtering(minimal_frq, text_ds)\n",
    "    for sequence_length, window_size, num_ns in combinations:\n",
    "        #data editing:\n",
    "        text_vector_ds, vectorize_layer, inverse_vocab = create_txt_vec_ds(sequence_length, ds, vocab_size)\n",
    "        targets, contexts, labels = create_tar_cont_lab(text_vector_ds, window_size, num_ns, vocab_size)\n",
    "        print(f'     finished editing data')\n",
    "        #train_test split:\n",
    "        targets_train, targets_test, contexts_train, contexts_test, labels_train, labels_test = train_test_split(targets, contexts, labels, test_size=0.2, random_state=42)\n",
    "        train_dataset = create_dataset(targets_train, contexts_train, labels_train)\n",
    "        test_dataset = create_dataset(targets_test, contexts_test, labels_test)\n",
    "        print(f'     splitted the data')\n",
    "        \n",
    "        for embedding_dim in embedding_dims:\n",
    "            word2vec = build_model(vocab_size, embedding_dim)\n",
    "            tensorboard_callback = tf.keras.callbacks.TensorBoard(log_dir=\"logs\")\n",
    "            word2vec.fit(train_dataset, epochs=EPOCH, callbacks=[tensorboard_callback], verbose=0)\n",
    "            score = word2vec.evaluate(test_dataset)[1]\n",
    "            print(f'     model is done and evaluated')\n",
    "        \n",
    "            if score>best_score:\n",
    "                print(f'!!!!!!!best score updated, now its {score}!!!!!!!!')\n",
    "                print(f'!!!!!!!!of the params:minimal_frq:{minimal_frq}, sequence_length:{sequence_length}, window_size:{window_size}, num_n:{num_ns}, embedding_dim:{embedding_dim}!!!!!!!!')\n",
    "                best_model, best_vectorize_layer, best_inverse_vocab, best_score = word2vec, vectorize_layer, inverse_vocab, score\n",
    "  "
   ]
  },
  {
   "cell_type": "markdown",
   "id": "8a364355",
   "metadata": {},
   "source": [
    " "
   ]
  },
  {
   "cell_type": "markdown",
   "id": "defe0bae",
   "metadata": {},
   "source": [
    " "
   ]
  },
  {
   "cell_type": "markdown",
   "id": "c292ade2",
   "metadata": {},
   "source": [
    " "
   ]
  },
  {
   "cell_type": "markdown",
   "id": "e8437572",
   "metadata": {},
   "source": [
    " "
   ]
  },
  {
   "cell_type": "markdown",
   "id": "a75ef4e0",
   "metadata": {},
   "source": [
    " "
   ]
  },
  {
   "cell_type": "markdown",
   "id": "928efcb4",
   "metadata": {},
   "source": [
    " "
   ]
  },
  {
   "cell_type": "markdown",
   "id": "b2bdb2e3",
   "metadata": {},
   "source": [
    " "
   ]
  },
  {
   "cell_type": "markdown",
   "id": "278429df",
   "metadata": {},
   "source": [
    " "
   ]
  },
  {
   "cell_type": "markdown",
   "id": "4015c2dc",
   "metadata": {},
   "source": [
    "# Using The Model:"
   ]
  },
  {
   "cell_type": "code",
   "execution_count": 122,
   "id": "cef22a11",
   "metadata": {},
   "outputs": [],
   "source": [
    "#obtaining weights and vocab:\n",
    "weights = best_model.get_layer('w2v_embedding').get_weights()[0]\n",
    "vocab = best_vectorize_layer.get_vocabulary()"
   ]
  },
  {
   "cell_type": "code",
   "execution_count": 123,
   "id": "4bc4ba9c",
   "metadata": {},
   "outputs": [],
   "source": [
    "#saving the model:\n",
    "out_v = io.open('vectors.tsv', 'w', encoding='utf-8')\n",
    "out_m = io.open('metadata.tsv', 'w', encoding='utf-8')\n",
    "\n",
    "for index, word in enumerate(vocab):\n",
    "    if index == 0:\n",
    "        continue  # skip 0, it's padding.\n",
    "    vec = weights[index]\n",
    "    out_v.write('\\t'.join([str(x) for x in vec]) + \"\\n\")\n",
    "    out_m.write(word + \"\\n\")\n",
    "out_v.close()\n",
    "out_m.close()"
   ]
  },
  {
   "cell_type": "markdown",
   "id": "f6cf707c",
   "metadata": {},
   "source": [
    " "
   ]
  },
  {
   "cell_type": "markdown",
   "id": "4957cfd0",
   "metadata": {},
   "source": [
    "### finding similar words:"
   ]
  },
  {
   "cell_type": "code",
   "execution_count": 114,
   "id": "b698aa0e",
   "metadata": {},
   "outputs": [],
   "source": [
    "def find_most_similar(word, k=10):\n",
    "    word_index = best_vectorize_layer([word]).numpy()[0][0]\n",
    "    word_emb = best_model.target_embedding(tf.constant(word_index))\n",
    "\n",
    "    # Compute the cosine similarity between the embedding of the given word and all other word embeddings\n",
    "    similarity = tf.keras.losses.cosine_similarity(best_model.target_embedding.weights[0], word_emb)\n",
    "    similar_word_indices = tf.argsort(similarity, direction='DESCENDING')[1:k+1]\n",
    "    similar_words = [best_inverse_vocab[i] for i in similar_word_indices.numpy()]\n",
    "    similarity_scores = similarity.numpy()[similar_word_indices]\n",
    "\n",
    "    # Print the most similar words and their similarity scores\n",
    "    print(f\"Words similar to '{word}':\")\n",
    "    for i in range(len(similar_words)):\n",
    "        print(f\"{similar_words[i]} {similarity_scores[i]:.4f}\")"
   ]
  },
  {
   "cell_type": "code",
   "execution_count": null,
   "id": "2d9f6474",
   "metadata": {},
   "outputs": [],
   "source": []
  },
  {
   "cell_type": "markdown",
   "id": "35507e0e",
   "metadata": {},
   "source": [
    "### PCA:"
   ]
  },
  {
   "cell_type": "code",
   "execution_count": 119,
   "id": "4985b3d5",
   "metadata": {},
   "outputs": [
    {
     "data": {
      "image/png": "[encoded data removed]",
      "text/plain": [
       "<Figure size 640x480 with 1 Axes>"
      ]
     },
     "metadata": {},
     "output_type": "display_data"
    }
   ],
   "source": [
    "pca = PCA(n_components=3)\n",
    "embeddings_reduced = pca.fit_transform(weights)\n",
    "\n",
    "\n",
    "interesting_words = ['room', 'key', 'good', 'nights', 'international', 'perfect', 'quality', 'service', 'clean', 'great', 'guest', 'tourist', 'apartment', 'recommend', 'entrance', 'family', 'bad', 'call', 'security', 'nice', 'helpful', 'restaurant', 'far']\n",
    "interesting_indices = [best_vectorize_layer.get_vocabulary().index(word) for word in interesting_words]\n",
    "interesting_embeddings = embeddings_reduced[interesting_indices]\n",
    "\n",
    "fig = plt.figure()\n",
    "ax = fig.add_subplot(projection='3d')\n",
    "for i, word in enumerate(interesting_words):\n",
    "    ax.scatter(interesting_embeddings[i, 0], interesting_embeddings[i, 1], interesting_embeddings[i, 2])\n",
    "    ax.text(interesting_embeddings[i, 0], interesting_embeddings[i, 1], interesting_embeddings[i, 2], word)\n",
    "plt.show()"
   ]
  },
  {
   "cell_type": "markdown",
   "id": "8d8f7a86",
   "metadata": {},
   "source": [
    "### Kmeans embeddings:"
   ]
  },
  {
   "cell_type": "code",
   "execution_count": 121,
   "id": "bc308d9e",
   "metadata": {},
   "outputs": [
    {
     "name": "stdout",
     "output_type": "stream",
     "text": [
      "Cluster 0: ['la', 'situation', 'con', 'de', 'en', 'un', 'standing', 'correct', 'el', 'ben', 'bon', 'bien', 'trs', 'du', 'confortable']\n",
      "\n",
      "Cluster 1: ['', 'stopword', 'rareword', 'around', 'coffee', 'tube', 'buffet', 'luggage', 'table', 'fruit', 'store', 'daily', 'wireless', 'eggs', 'machine']\n",
      "\n",
      "Cluster 2: ['hotel', 'room', 'good', 'staff', 'would', 'location', 'rooms', 'nice', 'clean', 'quot', 'breakfast', 'service', 'get', 'small', 'place']\n",
      "\n",
      "Cluster 3: ['[UNK]', 'great', 'stay', 'one', 'stayed', 'us', 'night', 'time', 'also', 'day', 'back', 'floor', 'london', 'two', 'walk']\n",
      "\n"
     ]
    }
   ],
   "source": [
    "num_clusters = 4\n",
    "kmeans = KMeans(n_clusters=num_clusters, random_state=0).fit(weights)\n",
    "cluster_labels = kmeans.labels_\n",
    "\n",
    "# Print the words in each cluster\n",
    "for i in range(num_clusters):\n",
    "    cluster = np.where(cluster_labels == i)[0][:15]\n",
    "    words = ([best_inverse_vocab[c] for c in cluster])\n",
    "    print(f\"Cluster {i}: {words}\")\n",
    "    print('')"
   ]
  },
  {
   "cell_type": "markdown",
   "id": "b1bfb938",
   "metadata": {},
   "source": [
    " "
   ]
  }
 ],
 "metadata": {
  "kernelspec": {
   "display_name": "Python 3 (ipykernel)",
   "language": "python",
   "name": "python3"
  },
  "language_info": {
   "codemirror_mode": {
    "name": "ipython",
    "version": 3
   },
   "file_extension": ".py",
   "mimetype": "text/x-python",
   "name": "python",
   "nbconvert_exporter": "python",
   "pygments_lexer": "ipython3",
   "version": "3.9.2"
  }
 },
 "nbformat": 4,
 "nbformat_minor": 5
}
